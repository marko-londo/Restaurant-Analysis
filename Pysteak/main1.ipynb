{
 "cells": [
  {
   "cell_type": "code",
   "execution_count": null,
   "id": "7cb026a2-318c-4a54-8143-ea703d61c42f",
   "metadata": {},
   "outputs": [],
   "source": [
    "# Imports csv module and Path class from pathlib module:\n",
    "\n",
    "import csv\n",
    "from pathlib import Path\n"
   ]
  },
  {
   "cell_type": "code",
   "execution_count": null,
   "id": "90a9a419",
   "metadata": {},
   "outputs": [],
   "source": [
    "# Sets path for menu_data.csv and sales_data.csv:\n",
    "\n",
    "menu_filepath = Path(r\"C:\\Users\\dontb\\01\\001\\Repos\\Restaurant-Analysis\\Resources\\menu_data.csv\")\n",
    "sales_filepath = Path(r\"C:\\Users\\dontb\\01\\001\\Repos\\Restaurant-Analysis\\Resources\\sales_data.csv\")\n"
   ]
  },
  {
   "cell_type": "code",
   "execution_count": null,
   "id": "8cedded9",
   "metadata": {},
   "outputs": [],
   "source": [
    "# Creates empty lst objects for menu and sales:\n",
    "\n",
    "menu = []\n",
    "sales = []\n"
   ]
  },
  {
   "cell_type": "code",
   "execution_count": null,
   "id": "8d23883f",
   "metadata": {},
   "outputs": [],
   "source": [
    "# Reads in menu_data and sales data, appending each row of to their \n",
    "# corresponding list, skipping the header:\n",
    "\n",
    "with open(menu_filepath, \"r\") as csv_file:\n",
    "    csv_reader = csv.reader(csv_file)\n",
    "    next(csv_reader)\n",
    "    for row in csv_reader:\n",
    "        menu.append(row)\n",
    "\n",
    "\n",
    "with open(sales_filepath, \"r\") as csv_file:\n",
    "    csv_reader = csv.reader(csv_file)\n",
    "    next(csv_reader)\n",
    "    for row in csv_reader:\n",
    "        sales.append(row)\n"
   ]
  },
  {
   "cell_type": "code",
   "execution_count": null,
   "id": "e676e899-7755-4513-ab2f-878a7698113c",
   "metadata": {},
   "outputs": [],
   "source": [
    "# Creates and empty report dict, to hold the future aggregated per-product results:\n",
    "\n",
    "report = {}\n"
   ]
  },
  {
   "cell_type": "code",
   "execution_count": null,
   "id": "0b2f0449",
   "metadata": {},
   "outputs": [],
   "source": [
    "# Loops through every row in the sales list object,\n",
    "# For each row of the sales data, sets quantity and sales_item to their own variables:\n",
    "\n",
    "for row in sales:\n",
    "    quantity = int(row[3])\n",
    "    sales_item = row[4]\n",
    "\n",
    "    # Initializes key-value pairs for each sales_item.\n",
    "    # Sets the sales_item as a new key in the report dict:\n",
    "\n",
    "    if sales_item not in report.keys():\n",
    "        report[sales_item] = {\"01-count\": 0, \n",
    "                              \"02-revenue\": 0,\n",
    "                              \"03-cogs\": 0,\n",
    "                              \"04-profit\": 0,}\n",
    "    \n",
    "    # For each row in menu, sets item price and cost to their own variables.\n",
    "    # Sets a variable to calculate profit:\n",
    "    \n",
    "    for row in menu:\n",
    "        item = row[0]\n",
    "        price = float(row[3])\n",
    "        cost = float(row[4])\n",
    "        profit = price - cost\n",
    "\n",
    "        # If the sales_item is equal to the item in menu,\n",
    "        # Captures the quantity from the sales data and the price and cost from the menu data\n",
    "        # to calculate the profit:\n",
    "        \n",
    "        if sales_item == item:\n",
    "            report[sales_item][\"01-count\"] += quantity\n",
    "            report[sales_item][\"02-revenue\"] += price * quantity\n",
    "            report[sales_item][\"03-cogs\"] += cost * quantity\n",
    "            report[sales_item][\"04-profit\"] += profit * quantity\n",
    "\n",
    "        # Else prints that they do not match to the console:\n",
    "\n",
    "        else: \n",
    "            print(f\"{sales_item} does not equal {item}! NO MATCH!\")"
   ]
  },
  {
   "cell_type": "code",
   "execution_count": null,
   "id": "8fba6a92-dce0-431f-a453-e8316fe70bdf",
   "metadata": {},
   "outputs": [],
   "source": [
    "# Writes out the contents of the report dict to a .txt file, \n",
    "# with line breaks after each key-value pair:\n",
    "\n",
    "file_path = 'sales_report.txt'\n",
    "with open(file_path, 'w') as file:\n",
    "    for key, value in report.items():\n",
    "        file.write(f\"{key}: {value}\\n\")"
   ]
  }
 ],
 "metadata": {
  "kernelspec": {
   "display_name": "Python 3 (ipykernel)",
   "language": "python",
   "name": "python3"
  },
  "language_info": {
   "codemirror_mode": {
    "name": "ipython",
    "version": 3
   },
   "file_extension": ".py",
   "mimetype": "text/x-python",
   "name": "python",
   "nbconvert_exporter": "python",
   "pygments_lexer": "ipython3",
   "version": "3.7.13"
  }
 },
 "nbformat": 4,
 "nbformat_minor": 5
}
