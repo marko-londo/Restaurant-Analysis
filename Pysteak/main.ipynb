{
 "cells": [
  {
   "cell_type": "code",
   "execution_count": null,
   "metadata": {},
   "outputs": [],
   "source": [
    "# Imports csv module and Path class from pathlib module:\n",
    "\n",
    "import csv\n",
    "from pathlib import Path"
   ]
  },
  {
   "cell_type": "code",
   "execution_count": null,
   "metadata": {},
   "outputs": [],
   "source": [
    "# Sets path for menu_data.csv and sales_data.csv:\n",
    "\n",
    "menu_filepath = Path(r\"C:\\Users\\dontb\\01\\001\\Repos\\Restaurant-Analysis\\Resources\\menu_data.csv\")\n",
    "sales_filepath = Path(r\"C:\\Users\\dontb\\01\\001\\Repos\\Restaurant-Analysis\\Resources\\sales_data.csv\")\n"
   ]
  },
  {
   "cell_type": "code",
   "execution_count": null,
   "metadata": {},
   "outputs": [],
   "source": [
    "# Creates empty lst objects for menu and sales:\n",
    "\n",
    "menu = []\n",
    "sales = []\n"
   ]
  },
  {
   "cell_type": "code",
   "execution_count": null,
   "metadata": {},
   "outputs": [],
   "source": [
    "# Reads in menu_data and sales data, appending each row of to their \n",
    "# corresponding list, skipping the header:\n",
    "\n",
    "with open(menu_filepath, \"r\") as csv_file:\n",
    "    csv_reader = csv.reader(csv_file)\n",
    "    next(csv_reader)\n",
    "    for row in csv_reader:\n",
    "        menu.append(row)\n",
    "\n",
    "\n",
    "with open(sales_filepath, \"r\") as csv_file:\n",
    "    csv_reader = csv.reader(csv_file)\n",
    "    next(csv_reader)\n",
    "    for row in csv_reader:\n",
    "        sales.append(row)"
   ]
  },
  {
   "cell_type": "code",
   "execution_count": null,
   "metadata": {},
   "outputs": [],
   "source": [
    "total_sales = {}\n",
    "\n",
    "for row in menu:\n",
    "    menu_item = row[0]\n",
    "    price = float(row[3])\n",
    "    cost = float(row[4])\n",
    "    profit = price - cost\n",
    "\n",
    "    if menu_item not in total_sales.keys():\n",
    "        total_sales[menu_item] = {'quantity': 0, 'price': 0, 'cost': 0,'profit': 0}\n",
    "    for row in sales:\n",
    "        sales_item = row[4]\n",
    "        quantity = int(row[3])\n",
    "        date = row[1]\n",
    "        if sales_item == menu_item:\n",
    "            total_sales[menu_item]['quantity'] += quantity\n",
    "            total_sales[menu_item]['price'] += price * quantity\n",
    "            total_sales[menu_item]['cost'] += cost * quantity\n",
    "            total_sales[menu_item]['profit'] += profit * quantity\n",
    "            total_sales[menu_item]['date'] = date"
   ]
  },
  {
   "cell_type": "code",
   "execution_count": null,
   "metadata": {},
   "outputs": [],
   "source": [
    "# Calculates the total number of months in the dataset:\n",
    "\n",
    "def total_months():\n",
    "    total_months = []\n",
    "    total_years = []\n",
    "    for row in sales:\n",
    "        date = row[1]  \n",
    "        month = date.split('-')[0]\n",
    "        year = date.split('-')[2]\n",
    "        if month not in total_months:\n",
    "            total_months.append(month)\n",
    "        elif year not in total_years:\n",
    "            total_years.append(year)\n",
    "    return len(total_months) * len(total_years)\n",
    "    \n",
    "tot_months = total_months()\n",
    "\n",
    "print(f\"The total number of months in the dataset is {tot_months}.\")"
   ]
  },
  {
   "cell_type": "code",
   "execution_count": null,
   "metadata": {},
   "outputs": [],
   "source": [
    "def calculate_net_profit(total_sales):\n",
    "    net_profit = {}\n",
    "\n",
    "    for item, sales_data in total_sales.items():\n",
    "        price = sales_data['price']\n",
    "        cost = sales_data['cost']\n",
    "        quantity = sales_data['quantity']\n",
    "        profit = price - cost\n",
    "        total_profit = profit * quantity\n",
    "        net_profit[item] = f\"${total_profit}\"\n",
    "\n",
    "    return net_profit\n",
    "\n",
    "net_profit_items = calculate_net_profit(total_sales)\n",
    "\n",
    "print(f\"The net total ammount of profit for each menu item are as follows:\\n{net_profit_items}\")"
   ]
  },
  {
   "cell_type": "code",
   "execution_count": null,
   "metadata": {},
   "outputs": [],
   "source": [
    "def most_profitable(total_sales):\n",
    "    max_profit = 0\n",
    "    most_profitable_item = None\n",
    "    date_of_sale = None\n",
    "    for item, sales_data in total_sales.items():\n",
    "        profit = sales_data['profit']\n",
    "        if profit > max_profit:\n",
    "            max_profit = profit\n",
    "            most_profitable_item = item\n",
    "            date_of_sale = sales_data.get('date')\n",
    "    return f\"{most_profitable_item} at ${max_profit} on {date_of_sale}\"\n",
    "\n",
    "most_profitable = most_profitable(total_sales)\n",
    "\n",
    "print(f\"The most profitable item was {most_profitable}\")"
   ]
  },
  {
   "cell_type": "code",
   "execution_count": null,
   "metadata": {},
   "outputs": [],
   "source": [
    "def greatest_cost(total_sales):\n",
    "    max_cost = 0\n",
    "    max_cost_item = None\n",
    "    date_of_sale = None\n",
    "    for item, sales_data in total_sales.items():\n",
    "        cost = sales_data['cost']\n",
    "        if cost > max_cost:\n",
    "            max_cost = cost\n",
    "            max_cost_item = item\n",
    "            date_of_sale = sales_data.get('date')\n",
    "    return f\"{max_cost_item} at ${max_cost} on {date_of_sale}\"\n",
    "\n",
    "greatest_cost = greatest_cost(total_sales)\n",
    "\n",
    "print(f\"The greatest cost of an item was {greatest_cost}\")"
   ]
  },
  {
   "cell_type": "code",
   "execution_count": null,
   "metadata": {},
   "outputs": [],
   "source": [
    "file_path = 'sales_report.txt'\n",
    "with open(file_path, 'w') as file:\n",
    "    file.write(f\"The greatest cost of an item was {greatest_cost}\\n\")\n",
    "    file.write(f\"The most profitable item was {most_profitable}\\n\")\n",
    "    file.write(f\"The net total ammount of profit for each menu item are as follows:\\n{net_profit_items}\\n\")\n",
    "    file.write(f\"The total number of months in the dataset is {tot_months}.\\n\")"
   ]
  }
 ],
 "metadata": {
  "kernelspec": {
   "display_name": "dev",
   "language": "python",
   "name": "python3"
  },
  "language_info": {
   "codemirror_mode": {
    "name": "ipython",
    "version": 3
   },
   "file_extension": ".py",
   "mimetype": "text/x-python",
   "name": "python",
   "nbconvert_exporter": "python",
   "pygments_lexer": "ipython3",
   "version": "3.7.13"
  },
  "orig_nbformat": 4
 },
 "nbformat": 4,
 "nbformat_minor": 2
}
